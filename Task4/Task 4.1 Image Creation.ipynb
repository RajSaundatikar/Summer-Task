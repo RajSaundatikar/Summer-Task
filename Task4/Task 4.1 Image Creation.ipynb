{
 "cells": [
  {
   "cell_type": "code",
   "execution_count": 43,
   "id": "974babdb",
   "metadata": {},
   "outputs": [],
   "source": [
    "# importing cv2\n",
    "import cv2\n",
    "import numpy as np\n",
    "\n",
    "#To create canvas\n",
    "canvas= np.zeros((300,500,3))\n",
    "\n",
    "# font\n",
    "font = cv2.FONT_HERSHEY_SIMPLEX\n",
    "\n",
    "# org\n",
    "org = (50, 50)\n",
    "\n",
    "# fontScale\n",
    "fontScale = 1\n",
    "\n",
    "# Blue color in BGR\n",
    "color = (0, 0, 255)\n",
    "\n",
    "# Line thickness of 2 px\n",
    "thickness = 4\n",
    "\n",
    "# Using cv2.putText() method\n",
    "canvas = cv2.putText(canvas, 'Linux World 2021', org, font,fontScale, color, thickness, cv2.LINE_AA)\n",
    "\n",
    "\n",
    "cv2.imshow('image',canvas)\n",
    "cv2.waitKey(0)\n",
    "cv2.destroyAllWindows()"
   ]
  },
  {
   "cell_type": "code",
   "execution_count": null,
   "id": "80385855",
   "metadata": {},
   "outputs": [],
   "source": []
  }
 ],
 "metadata": {
  "kernelspec": {
   "display_name": "Python 3",
   "language": "python",
   "name": "python3"
  },
  "language_info": {
   "codemirror_mode": {
    "name": "ipython",
    "version": 3
   },
   "file_extension": ".py",
   "mimetype": "text/x-python",
   "name": "python",
   "nbconvert_exporter": "python",
   "pygments_lexer": "ipython3",
   "version": "3.8.8"
  }
 },
 "nbformat": 4,
 "nbformat_minor": 5
}
