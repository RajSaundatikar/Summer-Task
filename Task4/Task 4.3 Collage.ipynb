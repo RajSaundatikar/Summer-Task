{
 "cells": [
  {
   "cell_type": "code",
   "execution_count": null,
   "id": "e74100d4",
   "metadata": {},
   "outputs": [],
   "source": []
  },
  {
   "cell_type": "code",
   "execution_count": 1,
   "id": "72b3ae4e",
   "metadata": {},
   "outputs": [],
   "source": [
    "import numpy as np\n",
    "import cv2\n"
   ]
  },
  {
   "cell_type": "code",
   "execution_count": 6,
   "id": "27099c94",
   "metadata": {},
   "outputs": [],
   "source": [
    "squ = cv2.imread(\"squ.jpg\")\n",
    "cv2.imshow(\"Squirrel\", squ)\n",
    "cv2.waitKey()\n",
    "cv2.destroyAllWindows()\n"
   ]
  },
  {
   "cell_type": "code",
   "execution_count": 7,
   "id": "02729275",
   "metadata": {},
   "outputs": [],
   "source": [
    "deer = cv2.imread(\"deer.jpg\")\n",
    "cv2.imshow(\"Deer\", deer)\n",
    "cv2.waitKey()\n",
    "cv2.destroyAllWindows()"
   ]
  },
  {
   "cell_type": "code",
   "execution_count": 4,
   "id": "635aaf0c",
   "metadata": {},
   "outputs": [
    {
     "data": {
      "text/plain": [
       "(307, 512, 3)"
      ]
     },
     "execution_count": 4,
     "metadata": {},
     "output_type": "execute_result"
    }
   ],
   "source": [
    "deer.shape"
   ]
  },
  {
   "cell_type": "code",
   "execution_count": 10,
   "id": "ced3e7d9",
   "metadata": {},
   "outputs": [
    {
     "data": {
      "text/plain": [
       "(562, 640, 3)"
      ]
     },
     "execution_count": 10,
     "metadata": {},
     "output_type": "execute_result"
    }
   ],
   "source": [
    "squ.shape\n"
   ]
  },
  {
   "cell_type": "code",
   "execution_count": 8,
   "id": "7344c7ea",
   "metadata": {},
   "outputs": [],
   "source": [
    "mycol = np.hstack((squ,deer))\n",
    "cv2.imshow(\"Collage\", mycol)\n",
    "cv2.waitKey()\n",
    "cv2.destroyAllWindows()"
   ]
  },
  {
   "cell_type": "code",
   "execution_count": null,
   "id": "f4bd397e",
   "metadata": {},
   "outputs": [],
   "source": []
  }
 ],
 "metadata": {
  "kernelspec": {
   "display_name": "Python 3",
   "language": "python",
   "name": "python3"
  },
  "language_info": {
   "codemirror_mode": {
    "name": "ipython",
    "version": 3
   },
   "file_extension": ".py",
   "mimetype": "text/x-python",
   "name": "python",
   "nbconvert_exporter": "python",
   "pygments_lexer": "ipython3",
   "version": "3.8.8"
  }
 },
 "nbformat": 4,
 "nbformat_minor": 5
}
