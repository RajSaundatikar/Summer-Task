{
 "cells": [
  {
   "cell_type": "code",
   "execution_count": 66,
   "id": "353eb75a",
   "metadata": {},
   "outputs": [],
   "source": [
    "import numpy as np\n",
    "import cv2\n"
   ]
  },
  {
   "cell_type": "code",
   "execution_count": 86,
   "id": "714f7cd0",
   "metadata": {},
   "outputs": [],
   "source": [
    "squ = cv2.imread(\"squ.jpg\")\n",
    "cv2.imshow(\"Squirrel\", squ)\n",
    "cv2.waitKey()\n",
    "cv2.destroyAllWindows()"
   ]
  },
  {
   "cell_type": "code",
   "execution_count": 87,
   "id": "350d9ea9",
   "metadata": {},
   "outputs": [],
   "source": [
    "deer = cv2.imread(\"deer.jpg\")\n",
    "cv2.imshow(\"Deer\", deer)\n",
    "cv2.waitKey()\n",
    "cv2.destroyAllWindows()"
   ]
  },
  {
   "cell_type": "code",
   "execution_count": 88,
   "id": "388b55c9",
   "metadata": {},
   "outputs": [],
   "source": [
    "squ_crop = squ[115:350,400:570]\n",
    "cv2.imshow(\"Squirrel Cropped\", squ_crop)\n",
    "cv2.waitKey()\n",
    "cv2.destroyAllWindows()"
   ]
  },
  {
   "cell_type": "code",
   "execution_count": 89,
   "id": "ea5cfef1",
   "metadata": {},
   "outputs": [],
   "source": [
    "deer_crop = deer[180:350,300:490]\n",
    "cv2.imshow(\"Deer Cropped\", deer_crop)\n",
    "cv2.waitKey()\n",
    "cv2.destroyAllWindows()"
   ]
  },
  {
   "cell_type": "code",
   "execution_count": 71,
   "id": "7f8e8534",
   "metadata": {},
   "outputs": [],
   "source": [
    "squ_new = cv2.resize(squ_crop,(deer_crop.shape[1],deer_crop.shape[0]))"
   ]
  },
  {
   "cell_type": "code",
   "execution_count": 73,
   "id": "97739939",
   "metadata": {},
   "outputs": [],
   "source": [
    "deer_new = cv2.resize(deer_crop,(squ_crop.shape[1],squ_crop.shape[0]))"
   ]
  },
  {
   "cell_type": "code",
   "execution_count": 90,
   "id": "c6905da5",
   "metadata": {},
   "outputs": [],
   "source": [
    "squ[115:350,400:570] = deer_new\n",
    "cv2.imshow(\"Swapped Pic\", squ)\n",
    "cv2.waitKey()\n",
    "cv2.destroyAllWindows()\n"
   ]
  },
  {
   "cell_type": "code",
   "execution_count": 91,
   "id": "b7d11a4c",
   "metadata": {},
   "outputs": [],
   "source": [
    "deer[180:350,300:490] = squ_new\n",
    "cv2.imshow(\"Swapped Pic\", deer)\n",
    "cv2.waitKey()\n",
    "cv2.destroyAllWindows()"
   ]
  },
  {
   "cell_type": "code",
   "execution_count": null,
   "id": "9dd8b21c",
   "metadata": {},
   "outputs": [],
   "source": []
  }
 ],
 "metadata": {
  "kernelspec": {
   "display_name": "Python 3",
   "language": "python",
   "name": "python3"
  },
  "language_info": {
   "codemirror_mode": {
    "name": "ipython",
    "version": 3
   },
   "file_extension": ".py",
   "mimetype": "text/x-python",
   "name": "python",
   "nbconvert_exporter": "python",
   "pygments_lexer": "ipython3",
   "version": "3.8.8"
  }
 },
 "nbformat": 4,
 "nbformat_minor": 5
}
